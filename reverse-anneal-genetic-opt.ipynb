{
 "cells": [
  {
   "attachments": {},
   "cell_type": "markdown",
   "metadata": {},
   "source": [
    "# Genetic optimization of a reverse adiabatic annealing schedule\n",
    "\n",
    "We can use the reverse annealing schedule to build a certain type of Markov chain.\n",
    "\n",
    "D-Wave limitations: \n",
    "1. Limited number of points in a given anneal schedule\n",
    "3. Maximum slope specified by the machine.\n",
    "\n",
    "Our Genetic optimization is compared to the basis s = t/t_f linear schedule. The total anneal time is fixed to 100 mus. We create a population of 20 anneal schedules (individuals). Their genome is the ordered list of points where the slope changes in the anneal schedule. In the initial population, we seed in a benchmark anneal schedule so that it may compare and benefit from mixing with the others (here, an anneal-pause-anneal schedule at $s=0.4$). \n",
    "\n",
    "We perform the optimization with N_elite = 2. The breeding method is simply done by finding the geometric mean for each gene is the two parents (an example will be shown below). A mutation rate is included in two different ways: 1) where random genes (anneal points) are slightly shifted upwards or downwards by an amount picked from a gaussian with 0 average and a user specified variance, 2) where an interval between two genes is shrunk (careful with the max slope!). \n",
    "\n",
    "Hopefully, it takes less total calls to the machine to optain a lowest energy state. Benchmark is done on a randomly obtained spin glass instance. We plot the log(-E_best) vs iterations, in order to see the convergence to a given ground state that may be the solution to an optimization problem."
   ]
  },
  {
   "attachments": {},
   "cell_type": "markdown",
   "metadata": {},
   "source": [
    "For this particular implementation, one needs to think of an interesting problem. Here is an example: Given an Ising problem (graph with $J$ on edges and $h$ on nodes). Generate a quantum Boltzmann sampling. Prepare a classical state of the graph, and then draw a set of samples from a *given* probability distribution."
   ]
  }
 ],
 "metadata": {
  "language_info": {
   "name": "python"
  },
  "orig_nbformat": 4
 },
 "nbformat": 4,
 "nbformat_minor": 2
}
