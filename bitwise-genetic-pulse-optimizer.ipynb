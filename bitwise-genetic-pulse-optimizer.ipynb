{
 "cells": [
  {
   "attachments": {},
   "cell_type": "markdown",
   "metadata": {},
   "source": [
    "# Goal\n",
    "\n",
    "In this notebook, we attempt to reproduce some of the results of the paper \"*Quantum evolution kernel: Machine learning on graphs with programmable arrays of qubits*\"(https://journals.aps.org/pra/pdf/10.1103/PhysRevA.104.032416) by Henry et al. Instead of using a Bayesian optimizer to optimize the Pulse sequence, we use our own genetic algorithm. The goal of this notebook is to get more aquainted with graphs, their implementation on neutral atom QPUs, and the optimization of the pulse sequence (i.e. optimal control) in order to minimize or maximize some pre-determined score or cost function.\n",
    "\n",
    "**To do:**\n",
    "1. Generate some random Graphs using networkx (see https://github.com/pasqal-io/qgraph), and load them onto the register\n",
    "2. Create a function that returns a sequence of pulses for a given bitstring. Use the XY mode and evolution.\n",
    "3. Implement the generic algo - breeding is like DNA, mutation is bitflip. \n",
    "4. Cost is currently unknown. What should I improve? For example, initialize a state with a given number of \"walkers\" (use SLR to flip initial states, use XY evolution)"
   ]
  },
  {
   "attachments": {},
   "cell_type": "markdown",
   "metadata": {},
   "source": [
    "# extract a random unit-disk graph and implement it on the neutral atom device"
   ]
  },
  {
   "attachments": {},
   "cell_type": "markdown",
   "metadata": {},
   "source": [
    "# random Annealing pulse sequence"
   ]
  },
  {
   "attachments": {},
   "cell_type": "markdown",
   "metadata": {},
   "source": [
    "# Define a score for a given sequence\n",
    "\n",
    "Here, we need to have the maximum count of the lowest energy state, and the lowest energy state"
   ]
  }
 ],
 "metadata": {
  "language_info": {
   "name": "python"
  },
  "orig_nbformat": 4
 },
 "nbformat": 4,
 "nbformat_minor": 2
}
