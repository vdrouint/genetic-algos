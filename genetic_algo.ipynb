{
 "cells": [
  {
   "cell_type": "code",
   "execution_count": 42,
   "metadata": {},
   "outputs": [
    {
     "name": "stdout",
     "output_type": "stream",
     "text": [
      "[1.90896606 1.95269775]\n"
     ]
    }
   ],
   "source": [
    "import numpy as np\n",
    "\n",
    "size = 32\n",
    "bitlist = np.random.randint(2,size=size)\n",
    "#max number\n",
    "#bitlist = np.ones(size, dtype=int)\n",
    "#min number\n",
    "#bitlist = np.zeros(size, dtype=int)\n",
    "\n",
    "def bit_to_float(bitlist):\n",
    "    res=0\n",
    "    j=-1\n",
    "    for i in range(0,len(bitlist)):\n",
    "        x=2**j\n",
    "        res+=x*bitlist[i]\n",
    "        j-=1\n",
    "    return res\n",
    "\n",
    "def bit_to_float_double(bitlist, doms):\n",
    "    res=[0,0]\n",
    "    halflen = int(len(bitlist)/2)\n",
    "    j=-1\n",
    "    for i in range(0,halflen):\n",
    "        x=2**j\n",
    "        res[0] += x*bitlist[i]\n",
    "        j-=1\n",
    "    j=-1\n",
    "    for i in range(halflen, 2*halflen):\n",
    "        x=2**j\n",
    "        res[1] += x*bitlist[i]\n",
    "        j-=1\n",
    "    return np.array(np.multiply(doms,res))\n",
    "\n",
    "print(bit_to_float_double(bitlist, [2,2]))"
   ]
  },
  {
   "cell_type": "code",
   "execution_count": 41,
   "metadata": {},
   "outputs": [
    {
     "data": {
      "text/plain": [
       "array([1, 4])"
      ]
     },
     "execution_count": 41,
     "metadata": {},
     "output_type": "execute_result"
    }
   ],
   "source": [
    "np.array([1,2])**2"
   ]
  },
  {
   "cell_type": "code",
   "execution_count": 44,
   "metadata": {},
   "outputs": [],
   "source": [
    "#function to optimize\n",
    "\n",
    "def bit_to_float_double(bitlist, doms):\n",
    "    res=[0,0]\n",
    "    halflen = int(len(bitlist)/2)\n",
    "    j=-1\n",
    "    for i in range(0,halflen):\n",
    "        x=2**j\n",
    "        res[0] += x*bitlist[i]\n",
    "        j-=1\n",
    "    j=-1\n",
    "    for i in range(halflen, 2*halflen):\n",
    "        x=2**j\n",
    "        res[1] += x*bitlist[i]\n",
    "        j-=1\n",
    "    return np.array(np.multiply(doms,res))\n",
    "\n",
    "\n",
    "def ackley(xvec, a=20, b=0.2, c = 2*np.pi):\n",
    "    d=len(xvec)\n",
    "    func = -a*np.exp(-b*np.sqrt(sum(xvec**2)/d)) - np.exp(sum(np.cos(c*xvec))/d) + a + np.exp(1)\n",
    "    return func\n",
    "\n",
    "def evaluate_function(population):\n",
    "    evals = np.zeros(len(population))\n",
    "    for p in len(population):\n",
    "        evals[p] = ackley(bit_to_float_double(population[p], [16,16]))\n",
    "    return evals\n",
    "\n",
    "def breeding(population, fidelity, selection_rate):\n",
    "    sorted_fid = np.argsort(fidelity)\n",
    "    #select N/2 breeding pairs\n",
    "    N= len(population)\n",
    "    nallele= len(population[0])\n",
    "    npairs = int(N/2)\n",
    "    prob_list = [(1 + ((N-k%N)/(N-1))*(selection_rate - 1))*2/((1+selection_rate)*N) for k in range(N)]\n",
    "    #find all the pairs\n",
    "    all_pairs = []\n",
    "    #selected = [0,0]\n",
    "    for n in range(npairs):\n",
    "        cond = True\n",
    "        while cond:\n",
    "            selected = np.random.choice(N,2,p=prob_list)\n",
    "            if selected[0] != selected[1]:\n",
    "                cond = False\n",
    "            else:\n",
    "                cond = True\n",
    "\n",
    "        pair = [sorted_fid[selected[0]], sorted_fid[selected[1]]]\n",
    "        all_pairs.append(selected)\n",
    "\n",
    "    \n",
    "    #now, swap\n",
    "    for n in range(npairs):\n",
    "        #where to cut \n",
    "        cut_space = np.random.randint(nallele-1)\n",
    "        n1 = all_pairs[n][0]\n",
    "        n2 = all_pairs[n][1]\n",
    "        cut_pair_1 = population[n1][cut_space:]\n",
    "        cut_pair_2 = population[n2][cut_space:]\n",
    "        population[n1][cut_space:] = cut_pair_2\n",
    "        population[n2][cut_space:] = cut_pair_1\n",
    "    \n",
    "    return population\n",
    "\n",
    "def mutation(population, mutation_rate):\n",
    "    for n in range(len(population)):\n",
    "        for j in range(len(population[n])):\n",
    "            val = population[n][j]\n",
    "            if np.random.rand() < mutation_rate:\n",
    "                population[n][j] = (val + 1)%2\n",
    "    return population\n",
    "\n",
    "\n",
    "#population of N individuals\n",
    "N=20\n",
    "size = 32 #16 bit precision for each number\n",
    "population = [np.random.randint(2,size=size) for j in range(N)]\n",
    "mutation_rate = 0.05  #5 percent allele mutation\n",
    "selection_rate = 3\n",
    "\n",
    "iter = 0\n",
    "maxiter = 1000\n",
    "kept_fidelity = np.zeros((maxiter, 20))\n",
    "while iter < maxiter:\n",
    "    fidelity = evaluate_function(population)\n",
    "    kept_fidelity[iter] = fidelity\n",
    "    population = breeding(population, fidelity, selection_rate)\n",
    "    population = mutation(population, mutation_rate)\n",
    "    iter += 1\n",
    "\n"
   ]
  },
  {
   "cell_type": "code",
   "execution_count": null,
   "metadata": {},
   "outputs": [],
   "source": [
    "#next: plot the fidelity results for each generations/member (20 lines on scatter)"
   ]
  }
 ],
 "metadata": {
  "kernelspec": {
   "display_name": "base",
   "language": "python",
   "name": "python3"
  },
  "language_info": {
   "codemirror_mode": {
    "name": "ipython",
    "version": 3
   },
   "file_extension": ".py",
   "mimetype": "text/x-python",
   "name": "python",
   "nbconvert_exporter": "python",
   "pygments_lexer": "ipython3",
   "version": "3.8.8 (default, Apr 13 2021, 19:58:26) \n[GCC 7.3.0]"
  },
  "orig_nbformat": 4,
  "vscode": {
   "interpreter": {
    "hash": "1f37f27245d596fe55b086ef4d07c8e05adeb0de442bb689b24ab3f7802e6e24"
   }
  }
 },
 "nbformat": 4,
 "nbformat_minor": 2
}
