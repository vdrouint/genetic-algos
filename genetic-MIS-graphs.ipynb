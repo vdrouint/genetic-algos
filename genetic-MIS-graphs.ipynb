{
 "cells": [
  {
   "cell_type": "code",
   "execution_count": null,
   "metadata": {},
   "outputs": [],
   "source": []
  },
  {
   "attachments": {},
   "cell_type": "markdown",
   "metadata": {},
   "source": [
    "# Create a qubo instance \n",
    "\n",
    "- map the problem's Q matrix to a neutral atom ensemble.\n",
    "- For an interesting Q matrix, look into other notebooks."
   ]
  },
  {
   "attachments": {},
   "cell_type": "markdown",
   "metadata": {},
   "source": [
    "# random Annealing pulse sequence"
   ]
  },
  {
   "attachments": {},
   "cell_type": "markdown",
   "metadata": {},
   "source": [
    "# Define a score for a given sequence\n",
    "\n",
    "Here, we need to have the maximum count of the lowest energy state, and the lowest energy state"
   ]
  }
 ],
 "metadata": {
  "language_info": {
   "name": "python"
  },
  "orig_nbformat": 4
 },
 "nbformat": 4,
 "nbformat_minor": 2
}
